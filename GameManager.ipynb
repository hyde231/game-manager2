{
 "cells": [
  {
   "cell_type": "markdown",
   "metadata": {},
   "source": [
    "# Game Manager"
   ]
  },
  {
   "cell_type": "markdown",
   "metadata": {},
   "source": [
    "## Setup"
   ]
  },
  {
   "cell_type": "code",
   "execution_count": 2,
   "metadata": {},
   "outputs": [
    {
     "name": "stdout",
     "output_type": "stream",
     "text": [
      "Requirement already satisfied: Flask in y:\\data\\games\\game-manager2\\.venv\\lib\\site-packages (from -r requirements.txt (line 1)) (3.1.0)\n",
      "Requirement already satisfied: requests in y:\\data\\games\\game-manager2\\.venv\\lib\\site-packages (from -r requirements.txt (line 2)) (2.32.3)\n",
      "Requirement already satisfied: beautifulsoup4 in y:\\data\\games\\game-manager2\\.venv\\lib\\site-packages (from -r requirements.txt (line 3)) (4.12.3)\n",
      "Requirement already satisfied: tldextract in y:\\data\\games\\game-manager2\\.venv\\lib\\site-packages (from -r requirements.txt (line 4)) (5.1.3)\n",
      "Requirement already satisfied: Jinja2 in y:\\data\\games\\game-manager2\\.venv\\lib\\site-packages (from -r requirements.txt (line 5)) (3.1.4)\n",
      "Requirement already satisfied: markdown in y:\\data\\games\\game-manager2\\.venv\\lib\\site-packages (from -r requirements.txt (line 6)) (3.7)\n",
      "Requirement already satisfied: markdownify in y:\\data\\games\\game-manager2\\.venv\\lib\\site-packages (from -r requirements.txt (line 7)) (0.14.1)\n",
      "Requirement already satisfied: python-dateutil in y:\\data\\games\\game-manager2\\.venv\\lib\\site-packages (from -r requirements.txt (line 8)) (2.9.0.post0)\n",
      "Requirement already satisfied: selenium in y:\\data\\games\\game-manager2\\.venv\\lib\\site-packages (from -r requirements.txt (line 9)) (4.27.1)\n",
      "Requirement already satisfied: undetected_chromedriver in y:\\data\\games\\game-manager2\\.venv\\lib\\site-packages (from -r requirements.txt (line 10)) (3.5.5)\n",
      "Requirement already satisfied: charset-normalizer in y:\\data\\games\\game-manager2\\.venv\\lib\\site-packages (from -r requirements.txt (line 11)) (3.4.0)\n",
      "Requirement already satisfied: cloudscraper in y:\\data\\games\\game-manager2\\.venv\\lib\\site-packages (from -r requirements.txt (line 12)) (1.2.71)\n",
      "Requirement already satisfied: Pillow in y:\\data\\games\\game-manager2\\.venv\\lib\\site-packages (from -r requirements.txt (line 13)) (11.0.0)\n",
      "Requirement already satisfied: Werkzeug>=3.1 in y:\\data\\games\\game-manager2\\.venv\\lib\\site-packages (from Flask->-r requirements.txt (line 1)) (3.1.3)\n",
      "Requirement already satisfied: itsdangerous>=2.2 in y:\\data\\games\\game-manager2\\.venv\\lib\\site-packages (from Flask->-r requirements.txt (line 1)) (2.2.0)\n",
      "Requirement already satisfied: click>=8.1.3 in y:\\data\\games\\game-manager2\\.venv\\lib\\site-packages (from Flask->-r requirements.txt (line 1)) (8.1.7)\n",
      "Requirement already satisfied: blinker>=1.9 in y:\\data\\games\\game-manager2\\.venv\\lib\\site-packages (from Flask->-r requirements.txt (line 1)) (1.9.0)\n",
      "Requirement already satisfied: idna<4,>=2.5 in y:\\data\\games\\game-manager2\\.venv\\lib\\site-packages (from requests->-r requirements.txt (line 2)) (3.10)\n",
      "Requirement already satisfied: urllib3<3,>=1.21.1 in y:\\data\\games\\game-manager2\\.venv\\lib\\site-packages (from requests->-r requirements.txt (line 2)) (2.2.3)\n",
      "Requirement already satisfied: certifi>=2017.4.17 in y:\\data\\games\\game-manager2\\.venv\\lib\\site-packages (from requests->-r requirements.txt (line 2)) (2024.12.14)\n",
      "Requirement already satisfied: soupsieve>1.2 in y:\\data\\games\\game-manager2\\.venv\\lib\\site-packages (from beautifulsoup4->-r requirements.txt (line 3)) (2.6)\n",
      "Requirement already satisfied: requests-file>=1.4 in y:\\data\\games\\game-manager2\\.venv\\lib\\site-packages (from tldextract->-r requirements.txt (line 4)) (2.1.0)\n",
      "Requirement already satisfied: filelock>=3.0.8 in y:\\data\\games\\game-manager2\\.venv\\lib\\site-packages (from tldextract->-r requirements.txt (line 4)) (3.16.1)\n",
      "Requirement already satisfied: MarkupSafe>=2.0 in y:\\data\\games\\game-manager2\\.venv\\lib\\site-packages (from Jinja2->-r requirements.txt (line 5)) (3.0.2)\n",
      "Requirement already satisfied: six<2,>=1.15 in y:\\data\\games\\game-manager2\\.venv\\lib\\site-packages (from markdownify->-r requirements.txt (line 7)) (1.17.0)\n",
      "Requirement already satisfied: trio~=0.17 in y:\\data\\games\\game-manager2\\.venv\\lib\\site-packages (from selenium->-r requirements.txt (line 9)) (0.27.0)\n",
      "Requirement already satisfied: trio-websocket~=0.9 in y:\\data\\games\\game-manager2\\.venv\\lib\\site-packages (from selenium->-r requirements.txt (line 9)) (0.11.1)\n",
      "Requirement already satisfied: typing_extensions~=4.9 in y:\\data\\games\\game-manager2\\.venv\\lib\\site-packages (from selenium->-r requirements.txt (line 9)) (4.12.2)\n",
      "Requirement already satisfied: websocket-client~=1.8 in y:\\data\\games\\game-manager2\\.venv\\lib\\site-packages (from selenium->-r requirements.txt (line 9)) (1.8.0)\n",
      "Requirement already satisfied: websockets in y:\\data\\games\\game-manager2\\.venv\\lib\\site-packages (from undetected_chromedriver->-r requirements.txt (line 10)) (14.1)\n",
      "Requirement already satisfied: pyparsing>=2.4.7 in y:\\data\\games\\game-manager2\\.venv\\lib\\site-packages (from cloudscraper->-r requirements.txt (line 12)) (3.2.0)\n",
      "Requirement already satisfied: requests-toolbelt>=0.9.1 in y:\\data\\games\\game-manager2\\.venv\\lib\\site-packages (from cloudscraper->-r requirements.txt (line 12)) (1.0.0)\n",
      "Requirement already satisfied: colorama in y:\\data\\games\\game-manager2\\.venv\\lib\\site-packages (from click>=8.1.3->Flask->-r requirements.txt (line 1)) (0.4.6)\n",
      "Requirement already satisfied: attrs>=23.2.0 in y:\\data\\games\\game-manager2\\.venv\\lib\\site-packages (from trio~=0.17->selenium->-r requirements.txt (line 9)) (24.3.0)\n",
      "Requirement already satisfied: sortedcontainers in y:\\data\\games\\game-manager2\\.venv\\lib\\site-packages (from trio~=0.17->selenium->-r requirements.txt (line 9)) (2.4.0)\n",
      "Requirement already satisfied: outcome in y:\\data\\games\\game-manager2\\.venv\\lib\\site-packages (from trio~=0.17->selenium->-r requirements.txt (line 9)) (1.3.0.post0)\n",
      "Requirement already satisfied: sniffio>=1.3.0 in y:\\data\\games\\game-manager2\\.venv\\lib\\site-packages (from trio~=0.17->selenium->-r requirements.txt (line 9)) (1.3.1)\n",
      "Requirement already satisfied: cffi>=1.14 in y:\\data\\games\\game-manager2\\.venv\\lib\\site-packages (from trio~=0.17->selenium->-r requirements.txt (line 9)) (1.17.1)\n",
      "Requirement already satisfied: exceptiongroup in y:\\data\\games\\game-manager2\\.venv\\lib\\site-packages (from trio~=0.17->selenium->-r requirements.txt (line 9)) (1.2.2)\n",
      "Requirement already satisfied: wsproto>=0.14 in y:\\data\\games\\game-manager2\\.venv\\lib\\site-packages (from trio-websocket~=0.9->selenium->-r requirements.txt (line 9)) (1.2.0)\n",
      "Requirement already satisfied: pysocks!=1.5.7,<2.0,>=1.5.6 in y:\\data\\games\\game-manager2\\.venv\\lib\\site-packages (from urllib3[socks]<3,>=1.26->selenium->-r requirements.txt (line 9)) (1.7.1)\n",
      "Requirement already satisfied: pycparser in y:\\data\\games\\game-manager2\\.venv\\lib\\site-packages (from cffi>=1.14->trio~=0.17->selenium->-r requirements.txt (line 9)) (2.22)\n",
      "Requirement already satisfied: h11<1,>=0.9.0 in y:\\data\\games\\game-manager2\\.venv\\lib\\site-packages (from wsproto>=0.14->trio-websocket~=0.9->selenium->-r requirements.txt (line 9)) (0.14.0)\n",
      "Note: you may need to restart the kernel to use updated packages.\n",
      "Requirement already satisfied: ipywidgets in y:\\data\\games\\game-manager2\\.venv\\lib\\site-packages (8.1.5)\n",
      "Requirement already satisfied: comm>=0.1.3 in y:\\data\\games\\game-manager2\\.venv\\lib\\site-packages (from ipywidgets) (0.2.2)\n",
      "Requirement already satisfied: ipython>=6.1.0 in y:\\data\\games\\game-manager2\\.venv\\lib\\site-packages (from ipywidgets) (8.30.0)\n",
      "Requirement already satisfied: traitlets>=4.3.1 in y:\\data\\games\\game-manager2\\.venv\\lib\\site-packages (from ipywidgets) (5.14.3)\n",
      "Requirement already satisfied: widgetsnbextension~=4.0.12 in y:\\data\\games\\game-manager2\\.venv\\lib\\site-packages (from ipywidgets) (4.0.13)\n",
      "Requirement already satisfied: jupyterlab-widgets~=3.0.12 in y:\\data\\games\\game-manager2\\.venv\\lib\\site-packages (from ipywidgets) (3.0.13)\n",
      "Requirement already satisfied: colorama in y:\\data\\games\\game-manager2\\.venv\\lib\\site-packages (from ipython>=6.1.0->ipywidgets) (0.4.6)\n",
      "Requirement already satisfied: decorator in y:\\data\\games\\game-manager2\\.venv\\lib\\site-packages (from ipython>=6.1.0->ipywidgets) (5.1.1)\n",
      "Requirement already satisfied: exceptiongroup in y:\\data\\games\\game-manager2\\.venv\\lib\\site-packages (from ipython>=6.1.0->ipywidgets) (1.2.2)\n",
      "Requirement already satisfied: jedi>=0.16 in y:\\data\\games\\game-manager2\\.venv\\lib\\site-packages (from ipython>=6.1.0->ipywidgets) (0.19.2)\n",
      "Requirement already satisfied: matplotlib-inline in y:\\data\\games\\game-manager2\\.venv\\lib\\site-packages (from ipython>=6.1.0->ipywidgets) (0.1.7)\n",
      "Requirement already satisfied: prompt_toolkit<3.1.0,>=3.0.41 in y:\\data\\games\\game-manager2\\.venv\\lib\\site-packages (from ipython>=6.1.0->ipywidgets) (3.0.48)\n",
      "Requirement already satisfied: pygments>=2.4.0 in y:\\data\\games\\game-manager2\\.venv\\lib\\site-packages (from ipython>=6.1.0->ipywidgets) (2.18.0)\n",
      "Requirement already satisfied: stack_data in y:\\data\\games\\game-manager2\\.venv\\lib\\site-packages (from ipython>=6.1.0->ipywidgets) (0.6.3)\n",
      "Requirement already satisfied: typing_extensions>=4.6 in y:\\data\\games\\game-manager2\\.venv\\lib\\site-packages (from ipython>=6.1.0->ipywidgets) (4.12.2)\n",
      "Requirement already satisfied: parso<0.9.0,>=0.8.4 in y:\\data\\games\\game-manager2\\.venv\\lib\\site-packages (from jedi>=0.16->ipython>=6.1.0->ipywidgets) (0.8.4)\n",
      "Requirement already satisfied: wcwidth in y:\\data\\games\\game-manager2\\.venv\\lib\\site-packages (from prompt_toolkit<3.1.0,>=3.0.41->ipython>=6.1.0->ipywidgets) (0.2.13)\n",
      "Requirement already satisfied: executing>=1.2.0 in y:\\data\\games\\game-manager2\\.venv\\lib\\site-packages (from stack_data->ipython>=6.1.0->ipywidgets) (2.1.0)\n",
      "Requirement already satisfied: asttokens>=2.1.0 in y:\\data\\games\\game-manager2\\.venv\\lib\\site-packages (from stack_data->ipython>=6.1.0->ipywidgets) (3.0.0)\n",
      "Requirement already satisfied: pure-eval in y:\\data\\games\\game-manager2\\.venv\\lib\\site-packages (from stack_data->ipython>=6.1.0->ipywidgets) (0.2.3)\n",
      "Note: you may need to restart the kernel to use updated packages.\n",
      "Requirement already satisfied: ipyfilechooser in y:\\data\\games\\game-manager2\\.venv\\lib\\site-packages (0.6.0)\n",
      "Requirement already satisfied: ipywidgets in y:\\data\\games\\game-manager2\\.venv\\lib\\site-packages (from ipyfilechooser) (8.1.5)\n",
      "Requirement already satisfied: comm>=0.1.3 in y:\\data\\games\\game-manager2\\.venv\\lib\\site-packages (from ipywidgets->ipyfilechooser) (0.2.2)\n",
      "Requirement already satisfied: ipython>=6.1.0 in y:\\data\\games\\game-manager2\\.venv\\lib\\site-packages (from ipywidgets->ipyfilechooser) (8.30.0)\n",
      "Requirement already satisfied: traitlets>=4.3.1 in y:\\data\\games\\game-manager2\\.venv\\lib\\site-packages (from ipywidgets->ipyfilechooser) (5.14.3)\n",
      "Requirement already satisfied: widgetsnbextension~=4.0.12 in y:\\data\\games\\game-manager2\\.venv\\lib\\site-packages (from ipywidgets->ipyfilechooser) (4.0.13)\n",
      "Requirement already satisfied: jupyterlab-widgets~=3.0.12 in y:\\data\\games\\game-manager2\\.venv\\lib\\site-packages (from ipywidgets->ipyfilechooser) (3.0.13)\n",
      "Requirement already satisfied: colorama in y:\\data\\games\\game-manager2\\.venv\\lib\\site-packages (from ipython>=6.1.0->ipywidgets->ipyfilechooser) (0.4.6)\n",
      "Requirement already satisfied: decorator in y:\\data\\games\\game-manager2\\.venv\\lib\\site-packages (from ipython>=6.1.0->ipywidgets->ipyfilechooser) (5.1.1)\n",
      "Requirement already satisfied: exceptiongroup in y:\\data\\games\\game-manager2\\.venv\\lib\\site-packages (from ipython>=6.1.0->ipywidgets->ipyfilechooser) (1.2.2)\n",
      "Requirement already satisfied: jedi>=0.16 in y:\\data\\games\\game-manager2\\.venv\\lib\\site-packages (from ipython>=6.1.0->ipywidgets->ipyfilechooser) (0.19.2)\n",
      "Requirement already satisfied: matplotlib-inline in y:\\data\\games\\game-manager2\\.venv\\lib\\site-packages (from ipython>=6.1.0->ipywidgets->ipyfilechooser) (0.1.7)\n",
      "Requirement already satisfied: prompt_toolkit<3.1.0,>=3.0.41 in y:\\data\\games\\game-manager2\\.venv\\lib\\site-packages (from ipython>=6.1.0->ipywidgets->ipyfilechooser) (3.0.48)\n",
      "Requirement already satisfied: pygments>=2.4.0 in y:\\data\\games\\game-manager2\\.venv\\lib\\site-packages (from ipython>=6.1.0->ipywidgets->ipyfilechooser) (2.18.0)\n",
      "Requirement already satisfied: stack_data in y:\\data\\games\\game-manager2\\.venv\\lib\\site-packages (from ipython>=6.1.0->ipywidgets->ipyfilechooser) (0.6.3)\n",
      "Requirement already satisfied: typing_extensions>=4.6 in y:\\data\\games\\game-manager2\\.venv\\lib\\site-packages (from ipython>=6.1.0->ipywidgets->ipyfilechooser) (4.12.2)\n",
      "Requirement already satisfied: parso<0.9.0,>=0.8.4 in y:\\data\\games\\game-manager2\\.venv\\lib\\site-packages (from jedi>=0.16->ipython>=6.1.0->ipywidgets->ipyfilechooser) (0.8.4)\n",
      "Requirement already satisfied: wcwidth in y:\\data\\games\\game-manager2\\.venv\\lib\\site-packages (from prompt_toolkit<3.1.0,>=3.0.41->ipython>=6.1.0->ipywidgets->ipyfilechooser) (0.2.13)\n",
      "Requirement already satisfied: executing>=1.2.0 in y:\\data\\games\\game-manager2\\.venv\\lib\\site-packages (from stack_data->ipython>=6.1.0->ipywidgets->ipyfilechooser) (2.1.0)\n",
      "Requirement already satisfied: asttokens>=2.1.0 in y:\\data\\games\\game-manager2\\.venv\\lib\\site-packages (from stack_data->ipython>=6.1.0->ipywidgets->ipyfilechooser) (3.0.0)\n",
      "Requirement already satisfied: pure-eval in y:\\data\\games\\game-manager2\\.venv\\lib\\site-packages (from stack_data->ipython>=6.1.0->ipywidgets->ipyfilechooser) (0.2.3)\n",
      "Note: you may need to restart the kernel to use updated packages.\n"
     ]
    }
   ],
   "source": [
    "%pip install -r requirements.txt\n",
    "%pip install ipywidgets\n",
    "%pip install ipyfilechooser"
   ]
  },
  {
   "cell_type": "markdown",
   "metadata": {},
   "source": [
    "## Management GUI"
   ]
  },
  {
   "cell_type": "code",
   "execution_count": 1,
   "metadata": {},
   "outputs": [
    {
     "name": "stdout",
     "output_type": "stream",
     "text": [
      "Loaded 297 games\n"
     ]
    },
    {
     "data": {
      "application/vnd.jupyter.widget-view+json": {
       "model_id": "e1cd2e0e0cd948bab211274df9f68167",
       "version_major": 2,
       "version_minor": 0
      },
      "text/plain": [
       "HBox(children=(Text(value='', description='Url:'), Button(description='Add game from Url', style=ButtonStyle()…"
      ]
     },
     "metadata": {},
     "output_type": "display_data"
    },
    {
     "data": {
      "application/vnd.jupyter.widget-view+json": {
       "model_id": "73a7e4d2ba04414699a1536d8b09f09f",
       "version_major": 2,
       "version_minor": 0
      },
      "text/plain": [
       "HBox(children=(FileChooser(path='Y:\\Data\\games\\game-manager2', filename='urls.txt', title='Select a fext file …"
      ]
     },
     "metadata": {},
     "output_type": "display_data"
    },
    {
     "data": {
      "application/vnd.jupyter.widget-view+json": {
       "model_id": "a1dc7f9559a64ddfaa8953ddc35cc8a1",
       "version_major": 2,
       "version_minor": 0
      },
      "text/plain": [
       "HBox(children=(Button(description='Force update all', style=ButtonStyle()), Button(description='Check all for …"
      ]
     },
     "metadata": {},
     "output_type": "display_data"
    },
    {
     "data": {
      "application/vnd.jupyter.widget-view+json": {
       "model_id": "b0e2c4faa469494c940905355530dc7d",
       "version_major": 2,
       "version_minor": 0
      },
      "text/plain": [
       "Button(description='Save gamelist', style=ButtonStyle())"
      ]
     },
     "metadata": {},
     "output_type": "display_data"
    },
    {
     "name": "stdout",
     "output_type": "stream",
     "text": [
      "Last update failed. Error:  Unknown string format: V1.10\n",
      "{'url': 'https://allthefallen.moe/forum/index.php?threads/the-secret-summer-holidays-v1-10-ue4.32390/', 'source': 'AllTheFallen', 'title': 'The secret Summer Holidays v1.10', 'cover_img': 'data:image/png;base64,iVBORw0KGgoAAAANSUhEUgAAASwAAACTCAIAAAC79LM2AAAOf0lEQVR4nO3dyY+kyVnH8eeJiHfLzMrKzFq6q93LdPe4xx68YCxkG8mWQFyQMYITPnPhT+DEjT/EEkicwRLIkhEcsPDYlvGiWTwzPdPTe1V1ZVZu7xYRz8OhpmdssR0wE4f5fQ6lyv1VSl9F5Btvvsnj8ZgAIB2TegMAPu4QIUBiiBAgMUQIkBgiBEgMEQIkhggBEkOEAIkhQoDEECFAYogQIDFECJAYIgRIDBECJIYIARJDhACJIUKAxBAhQGKIECAxRAiQGCIESAwRAiSGCAESQ4QAiSFCgMQQIUBiiBAgMUQIkBgiBEgMEQIkhggBEkOEAIkhQoDEECFAYogQIDFECJAYIgRIDBECJIYIARJDhACJIUKAxBAhQGKIECAxRAiQGCIESAwRAiSGCAESQ4QAiSFCgMQQIUBiiBAgMUQIkBgiBEgMEQIkhggBEkOEAIkhQoDEXOoN+FhjZmMMM39wjRLx//CA/x8xRlX9yF8W3ocIk2Hm4P22rlNvCA2qKstzdJgKIkyDmfu+v3rtxte//oej0UBEmUmViJmJ8iLPs4ytI5Hnd2fjHOkFubhOoua5c9aGGCRK4TJjmYi8j0aImESUDTERGVYS33vL1hiOEkOIxljDRpS+9dffunv3zbKs5P2Xg48UIkyDmXsfrx2M/uov/iwbHTKzMVZV+vVJtXuJnSOb0/IhDaakSuI1+vPHD60r86Iw1tq8lOCzcXb/zYcPj+dXDverg+mrT95tlp2GeOPawWIQnbXjwWC7EmtMt+psyG++fGcb1s9OF4Mi/8SlTzR9fd6furj9h2//7RtBq9TvyccWIkxE1WX5/OTR2Xs/c5Orhsm4nET84l5z6eXoeyK7fOdHXFWmmoZ26f323Vf+1djB9Oiqs9YwxRBuvHj4z//4b9/74Ruf/9ynX/7d3//7H7/ywx98/2z57Jt/8OX3Zvn547lzUs52umXsn+jXfutL98zxyWJ+Y3LH2PWPH79yun1079nTmT9fn9y3GaajySDCNFTVOXNyuv3RD1796tdvhqDElo1RkxMZ6wq2WTG9EptFNhgzkcmywWTfcFGOdg2Rc5nE4Krp0fWbN+cyO7x89eilv/zzP3n1G6//3T/9zdFsVOzv1oPVoj0djfPDz16eP1q7wsyPn16urtM2vPXse/ef3RtWs8/e+uwez79jv4sCE0KEiTBLjMPdoQvnbb01NmdmYqOqIkKiTDH6EGJ0oqKqxMwsIiJKTFFVlaIQG2utzV128uzRQ+qfdPfGR6b0w0uDo1BMZmG6U41ZeO/qpXuP394vRj/9+b8zhxuzq6N+sz877M/7U589mLe5M0roMA1EmAYzBe8Pji5PD/e2Z48HBzfF98a66EPwnlQN23r+uJjshRBEVERUKYpGVSLDoqoUY3CuyPLSOdc0y0XXHp/fk1r6cjMY8rDdvzG7U2Vu2Z+Z1bATuj69fuvll4q8uP/swR9/7U+n1W7H9N1/+XbTe8Mf/coIvA8RJqJknV0u1q+/vp6OTrZK5ey6UfI+uBBMVswfvOnbVTm47bs6hiASRTXGGEJUo8pMUUOkGIPEYKyTkEexR/s3D7pbrj2zbqdv46aRc24mwyt5ydf2Pvk7d74gGrd1PT8/Xc8XvlgvmvrOKNw5rH78YDvMLQbDJBBhGqJaOPvu6epHP3v7y1+4ulmf+rbOqml/fhq0bNeLWJ8Mr9zpmkajD8Er9X0IMbCPojGyzVSl91FEJYqxrm3q5n6RWdrOzw5KE99tbe85q4em8KtlG7rRcPTum6/G4A3Ttdx1q1OXu30udsrcOYOPhAkhwmRUNcvMw2fz00dPmtlkYPuqXjXLZdk22WBk9m4EVd+smIgNBd+RavChrWujKuttkTk6mnRd33edzYrFo/fuvfNeNRhZQ+MrB/GsrkY7WZabLDhns8xx7BfHj60xxhprTFUOmEjIhOiTHKYDH0CEySiRNXbT+rd+8sbr7zzYRp3NJnn03rphWVKzkaIsSDxxUZan58v1ZqtRVCn0/e99/lOf+8yLJtwQUVESohBi13YuH6hldoVE54Moi+MoxEpixDuXCZGoqOHg1VkTONPYY9doWogwKdVFE4/n27aP68WqbNt5iANL7ExHpjTcsgnes+G3F9u1j7m1fQhXxoPPfeaOyZxvg7JVZd+HEKXv+rzvOHd913Y+skZmUo3Re82cdU5857LcWEPGSBQxKiaqeDSYFiJMg5lFqDD0jZdmB+OCiQd5cdyF+3V7bTox1vL5ya390fG6GeeZMG+itlEikRJPd3fI2tZHZ7Stm7pu+t7HEL2PXdsbDcH7pgnGkDIZZmutSmGDy5wNIs45lWjYiCVhCqEVVcxHE0KEiagKUcnx/PRJ2FaXp7uXrx8d9fTi+HBlOK6OP3E9mx+vD2YTwyxRvnhztOr6puvuP1sEH5hMXRTabn3XbZu2ruum7eq+5T4z5Po+bjedhpDlZWbVuizm0WYuOEPG5FlmKJIx1hphUSPsCtJN6nfk4wsRJsPMfQjHy2bZhpNNHaNMMvP7X7n81rPTF792tH/ti6e/OP75d34+qErLPMzzQelGOwNxdlPXq80m7k5DlCjSh7BcLFtpT+yilPrI7c7bsydhMYrD0leTYsTRSrsaUsVeHRe9Mxq1Kgax97ao4jA+P3gc0kCEKRk2Vs229lL3zprzGN96+tTZ8p1fPDy4dbXvgmOS4IsiyzLOcmszM53utiGsVxszHLsQN9t2sdo+PT6txhlpXG9X4zxvYnP3+N70cGwcH9DUFW7TbAb1sJi63Wq3beoBl+N21mtXUnnZCJmMSIkJy4RJIMKURNSLRNIQoyOy1t598Pi3P/Mb33vltdXxqj7pQi/GcL41VbYt8rwqsuJ4HknHO1Xfds6H1XKxWa/euvvu0eW9wyyzw2y3dHs75e29ictd76Nf1md1M97bWazP+0U7vbTsOz+2w2NzQpUMa/Pi5CV2FSm+xJQMIkzjYmkuqpxuGmuYmGoKarjtu09dXy63cvKDh2WVD4qMVUdl3koW1/ULR4dnz5a3r13ebhrP53Y2vHn7k5O9KyYrXFZ0XbutlyLx6pWbL9y6FYLvfe1Dt93Wrsiapjk7PyvyEeVar7yqLpfNzn5huBQlIiYMhYkgwsS8xE4pMza3Jrd2UTfvPHgy2xm9tlxNvZ0Mhw/m51eIs6poIrUZ5ZfGy1ylrZcnT6842jl4YXeSuyJnY42dGHOVrZVA2tg8zwfjglloP/hQq/bXr3Q+ND60YdbFGDvflrnTYkbGMfJLBxEmNqqqx8uV4zAZVIXLlvXicUdXr98cnZ9W4yrfK3/z9gvVsKyqPM+dD4HYbKOMRoPpKCeS9fnTGG3eF8Vo7EYTYhNjEIpBI/edVWUyxMxm52KkK5wWLioFpaDkSYOPViTgmJmEEGE6zKLkSfYmQ2OprLLRKP/KC7eHO3k2XHzxS7fzIneZs9Yyc/CxXW99530QQ7TltRJP+23gwfy87tt2dnBweO2FweSg2pnm+VCVJITQdx8eDXPxPQlmJr44h4Zqbq30ZIkdJqIJIcI0mEmCDMfl7U/tiUiRZ8pk2RS5y6xR7zd9oE1bFDkTKamKhhAkSFSaTPfZmK71fbTz5WKxDmWRb1br5rWfKSkTTQ4uDWcHw8ml4exQYowhqESNoiL6foEXNFrOfC4iGAgTQoSJhRC2db81XZHnw0HVtKGnMBgOjLGb7bZpuqzIRUSi9H0vQYhM0zwxxsUYnI7Xtd+0oe26eh1z50IIXde9+da9EONwUH71j765e3iFnWPOVERC0BCixIvzRzGzMvvISgYNJoQIE1Fi5hDiatN2fSgyl2XU9Z5IVUT4ogqzXK6z0jMxk3a9D16MMSKdioRIA0e9ZH2QdbNpN+vexy6IqFprMmtXnbz607vTg01ZZYNRVVZlXuZ5UTBRDF5juMiw3zzT2GHXaEKIMCVRbTsfo1hr297HGIlURZWMqpKqjxKanphFxPsQQyQyqsSq1WgcuHh6eraoY1lVm+jO5udZ5pwxxhjmfjcbLNZhuXnEREzBWZMXNsvl6Orl2f6hLQYxhkc/+b7O32mXZ8Y5fJciFUSYDBOpUNuFKEJkoqi3xjCriihfxNj1gS4OKVOVi/PPiHR9bLuwfrL4qehkth9jfHL8nqhaw32I0YgzRknXdXN88jjPcuccMalGH3ppToruWM/35hvfrVe0flowxRCxdzQhRJjGxfK4qPoQlMiHoCQaLTMRqQ/x4iy/pGqYVVVEuz5sar+uu7r1IUpUsoaDnDIb770SiWHDRoRrCbk1xnaPn9zdGU2r4UTFx9jv2ObTR2PpwxuvvZ3FbidXEd32PooyZqPp8Hg8Tr0NH1OqlFkeV/bDdQNmZvpgWshMTMxEolq3oe1DiEKkz+9LpCQqRHTxgxaGyRrTR40iZWadtV2MzmZVNe59k1G4Mh1a606WzU5hhrnpfYhRSPW9ZVf7iHM9pYIIU1Iikf9lALo4wO2iuvdXF/SDW+j5NPLDz3P8/DZVYr6YxwqzIaKL8dVaViVReh4dZ7/ymzTwUcN0NCUmcr+8OvBBQPSrn9H0+Z//Yt/J82HzPz3z+10xO+MuHmgzc7HqeHHjB+dWwx6ZtBBhYvrfXfj1hfHhbs9f/u/X9vTwf4UfCQVIDBECJIYIARJDhACJIUKAxBAhQGKIECAxRAiQGCIESAwRAiSGCAESQ4QAiSFCgMQQIUBiiBAgMUQIkBgiBEgMEQIkhggBEkOEAIkhQoDEECFAYogQIDFECJAYIgRIDBECJIYIARJDhACJIUKAxBAhQGKIECAxRAiQGCIESAwRAiSGCAESQ4QAiSFCgMQQIUBiiBAgMUQIkBgiBEgMEQIkhggBEkOEAIkhQoDEECFAYogQIDFECJAYIgRIDBECJIYIARJDhACJIUKAxBAhQGKIECAxRAiQGCIESOw/ABBD1WzyxbsyAAAAAElFTkSuQmCC', 'description': \"Here is Tofu Soft's new game: The secret Summer Holidays\\n\\n\\n\\nGame Engine: UE4\\n\\nWhat has been done to the game?\\n\\nCryption removal\\nFiles added to make the game work in uncooked state\\nUncensor (DX11 mandatory!)\\nChapter uncensor\\nEnglish translation | by me and Tyron56\\nBottom menu | lit text = on /...\", 'published': '2022-05-31', 'developer': 'TOFU SOFT', 'os': ['Windows'], 'language': ['JAPANESE / ENGLISH'], 'tags': ['3duncensored', 'dress up', '-tofu soft', '3dwindows', '3denglish translation', 'tanned skin'], 'status': <GameStatus.UNKNOWN: 'unknown'>, 'game_engine': <GameEngine.UNKNOWN: 'unknown'>, 'game_render': <GameRender.UNKNOWN: 'unknown'>}\n",
      "New tag found: -tofu soft\n",
      "New tag found: 3denglish translation\n",
      "New tag found: 3duncensored\n",
      "New tag found: dress up\n",
      "New tag found: tanned skin\n",
      "Game with title 'The secret Summer Holidays v1.10' by TOFU SOFT not found. Adding it.\n",
      "DONE\n",
      "Saved 298 games\n",
      "Creating html index in ./\n",
      "Index created successfully at ./gameindex.html\n",
      "{'url': 'https://allthefallen.moe/forum/index.php?threads/your-life-path.31921/', 'source': 'AllTheFallen', 'title': 'Your Life Path', 'description': '\"Your Life Path\" is the \"Crew\\'s\" Newest VN Game. We tried to hit the preteen fantasy sweet spot with you being able to fuck girls ages 8 and up. Here you will find the first 4 Chapters to play. These set up some of the Paths you will get to fully explore as the game progresses. This VN features...', 'published': '2022-05-12', 'tags': ['preteen girls', 'lesbian', 'incest', '3d', 'facials', 'pregnancy / impregnation'], 'status': <GameStatus.UNKNOWN: 'unknown'>, 'game_engine': <GameEngine.RENPY: 'renpy'>, 'game_render': <GameRender.UNKNOWN: 'unknown'>}\n",
      "Game with title 'Your Life Path' by  not found. Adding it.\n",
      "DONE\n"
     ]
    }
   ],
   "source": [
    "import ipywidgets as widgets\n",
    "from ipyfilechooser import FileChooser\n",
    "from IPython.display import display, clear_output\n",
    "\n",
    "from dataclasses import dataclass, field, asdict\n",
    "import datetime\n",
    "\n",
    "from src.ScraperRepository import ScraperRepository\n",
    "from src.GameScraper import GameScraper\n",
    "from src.Game import Game\n",
    "from src.GameList import GameList\n",
    "\n",
    "from src.scrapers.AllTheFallenGameScraper import AllTheFallenGameScraper\n",
    "# from src.scrapers.DikgamesGameScraper import DikgamesGameScraper\n",
    "from src.scrapers.F95zoneGameScraper import F95zoneGameScraper\n",
    "from src.scrapers.FapNationGameScraper import FapNationGameScraper\n",
    "from src.scrapers.LewdCornerGameScraper import LewdCornerGameScraper\n",
    "from src.scrapers.RoriwalrusGameScraper import RoriwalrusGameScraper\n",
    "\n",
    "\n",
    "repository = ScraperRepository()\n",
    "repository.add(AllTheFallenGameScraper)\n",
    "# repository.add(DikgamesGameScraper)\n",
    "repository.add(F95zoneGameScraper)\n",
    "repository.add(FapNationGameScraper)\n",
    "repository.add(LewdCornerGameScraper)\n",
    "repository.add(RoriwalrusGameScraper)\n",
    "\n",
    "gamelist = GameList(repository=repository)\n",
    "gamelist.load()\n",
    "\n",
    "url_input = widgets.Text(description=\"Url:\")\n",
    "add_from_url_button = widgets.Button(description=\"Add / Update game from Url\")\n",
    "def add_from_url(b):\n",
    "    url = url_input.value\n",
    "    if url:\n",
    "        gamelist.add_game_from_url(url)\n",
    "    print(\"DONE\")\n",
    "add_from_url_button.on_click(add_from_url)\n",
    "\n",
    "save_button = widgets.Button(description=\"Save gamelist\")\n",
    "def save_changes(b):\n",
    "    gamelist.save()\n",
    "    gamelist.create_index()\n",
    "save_button.on_click(save_changes)\n",
    "\n",
    "filename_input = FileChooser(\n",
    "    './',  # Default directory\n",
    "    filename='urls.txt',  # Optional: Pre-fill filename\n",
    "    select_default=False,  # Start without pre-selected file\n",
    "    title='Select a fext file with URLs to add',  # Title displayed above the widget\n",
    ")\n",
    "add_from_file_button = widgets.Button(description=\"Start import\")\n",
    "def import_from_file(b):\n",
    "    selected_file = filename_input.selected\n",
    "    if selected_file:\n",
    "        with open(selected_file, 'r', encoding='utf-8') as file:\n",
    "            for line in file:\n",
    "                clean_line = line.strip()\n",
    "                # Ignore empty lines and comment lines\n",
    "                if clean_line and not clean_line.startswith(\"#\"):\n",
    "                    print(f\"Importing {clean_line}\")\n",
    "                    try:\n",
    "                        gamelist.add_game_from_url(clean_line)\n",
    "                    except Exception as e:\n",
    "                        print(f\"Error importing '{clean_line}': {e}\")\n",
    "    print(\"DONE\")\n",
    "add_from_file_button.on_click(import_from_file)\n",
    "\n",
    "\n",
    "check_all_for_updates_button = widgets.Button(description=\"Check all for updates\")\n",
    "# TODO\n",
    "# Add dropdown to limit to a source\n",
    "# Checkbox to include completed ones as well\n",
    "def check_all_for_updates(b):\n",
    "    print(f\"Checking for updates, {datetime.datetime.now()}\")\n",
    "    updates = gamelist.check_for_updates(immediate_update=True)\n",
    "    print(f\"{len(updates)} updates found, {datetime.datetime.now()}\")\n",
    "    print(\"DONE\")\n",
    "check_all_for_updates_button.on_click(check_all_for_updates)\n",
    "\n",
    "add_from_url_ui = widgets.HBox([url_input, add_from_url_button])\n",
    "add_from_url_file = widgets.HBox([filename_input, add_from_file_button])\n",
    "updates_ui = widgets.HBox([check_all_for_updates_button])\n",
    "display(add_from_url_ui, add_from_url_file, updates_ui, save_button)"
   ]
  }
 ],
 "metadata": {
  "kernelspec": {
   "display_name": ".venv",
   "language": "python",
   "name": "python3"
  },
  "language_info": {
   "codemirror_mode": {
    "name": "ipython",
    "version": 3
   },
   "file_extension": ".py",
   "mimetype": "text/x-python",
   "name": "python",
   "nbconvert_exporter": "python",
   "pygments_lexer": "ipython3",
   "version": "3.10.6"
  }
 },
 "nbformat": 4,
 "nbformat_minor": 2
}
