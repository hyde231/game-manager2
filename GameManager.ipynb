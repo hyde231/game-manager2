{
 "cells": [
  {
   "cell_type": "markdown",
   "metadata": {},
   "source": [
    "# Game Manager"
   ]
  },
  {
   "cell_type": "markdown",
   "metadata": {},
   "source": [
    "## Setup"
   ]
  },
  {
   "cell_type": "code",
   "execution_count": 5,
   "metadata": {},
   "outputs": [
    {
     "name": "stdout",
     "output_type": "stream",
     "text": [
      "Requirement already satisfied: Flask in y:\\data\\games\\game-manager2\\.venv\\lib\\site-packages (from -r requirements.txt (line 1)) (3.1.0)\n",
      "Requirement already satisfied: requests in y:\\data\\games\\game-manager2\\.venv\\lib\\site-packages (from -r requirements.txt (line 2)) (2.32.3)\n",
      "Requirement already satisfied: beautifulsoup4 in y:\\data\\games\\game-manager2\\.venv\\lib\\site-packages (from -r requirements.txt (line 3)) (4.12.3)\n",
      "Requirement already satisfied: tldextract in y:\\data\\games\\game-manager2\\.venv\\lib\\site-packages (from -r requirements.txt (line 4)) (5.1.3)\n",
      "Requirement already satisfied: Jinja2 in y:\\data\\games\\game-manager2\\.venv\\lib\\site-packages (from -r requirements.txt (line 5)) (3.1.4)\n",
      "Requirement already satisfied: markdown in y:\\data\\games\\game-manager2\\.venv\\lib\\site-packages (from -r requirements.txt (line 6)) (3.7)\n",
      "Requirement already satisfied: markdownify in y:\\data\\games\\game-manager2\\.venv\\lib\\site-packages (from -r requirements.txt (line 7)) (0.14.1)\n",
      "Requirement already satisfied: python-dateutil in y:\\data\\games\\game-manager2\\.venv\\lib\\site-packages (from -r requirements.txt (line 8)) (2.9.0.post0)\n",
      "Requirement already satisfied: selenium in y:\\data\\games\\game-manager2\\.venv\\lib\\site-packages (from -r requirements.txt (line 9)) (4.27.1)\n",
      "Requirement already satisfied: undetected_chromedriver in y:\\data\\games\\game-manager2\\.venv\\lib\\site-packages (from -r requirements.txt (line 10)) (3.5.5)\n",
      "Requirement already satisfied: charset-normalizer in y:\\data\\games\\game-manager2\\.venv\\lib\\site-packages (from -r requirements.txt (line 11)) (3.4.0)\n",
      "Requirement already satisfied: cloudscraper in y:\\data\\games\\game-manager2\\.venv\\lib\\site-packages (from -r requirements.txt (line 12)) (1.2.71)\n",
      "Requirement already satisfied: Pillow in y:\\data\\games\\game-manager2\\.venv\\lib\\site-packages (from -r requirements.txt (line 13)) (11.0.0)\n",
      "Requirement already satisfied: Werkzeug>=3.1 in y:\\data\\games\\game-manager2\\.venv\\lib\\site-packages (from Flask->-r requirements.txt (line 1)) (3.1.3)\n",
      "Requirement already satisfied: itsdangerous>=2.2 in y:\\data\\games\\game-manager2\\.venv\\lib\\site-packages (from Flask->-r requirements.txt (line 1)) (2.2.0)\n",
      "Requirement already satisfied: click>=8.1.3 in y:\\data\\games\\game-manager2\\.venv\\lib\\site-packages (from Flask->-r requirements.txt (line 1)) (8.1.7)\n",
      "Requirement already satisfied: blinker>=1.9 in y:\\data\\games\\game-manager2\\.venv\\lib\\site-packages (from Flask->-r requirements.txt (line 1)) (1.9.0)\n",
      "Requirement already satisfied: idna<4,>=2.5 in y:\\data\\games\\game-manager2\\.venv\\lib\\site-packages (from requests->-r requirements.txt (line 2)) (3.10)\n",
      "Requirement already satisfied: urllib3<3,>=1.21.1 in y:\\data\\games\\game-manager2\\.venv\\lib\\site-packages (from requests->-r requirements.txt (line 2)) (2.2.3)\n",
      "Requirement already satisfied: certifi>=2017.4.17 in y:\\data\\games\\game-manager2\\.venv\\lib\\site-packages (from requests->-r requirements.txt (line 2)) (2024.12.14)\n",
      "Requirement already satisfied: soupsieve>1.2 in y:\\data\\games\\game-manager2\\.venv\\lib\\site-packages (from beautifulsoup4->-r requirements.txt (line 3)) (2.6)\n",
      "Requirement already satisfied: requests-file>=1.4 in y:\\data\\games\\game-manager2\\.venv\\lib\\site-packages (from tldextract->-r requirements.txt (line 4)) (2.1.0)\n",
      "Requirement already satisfied: filelock>=3.0.8 in y:\\data\\games\\game-manager2\\.venv\\lib\\site-packages (from tldextract->-r requirements.txt (line 4)) (3.16.1)\n",
      "Requirement already satisfied: MarkupSafe>=2.0 in y:\\data\\games\\game-manager2\\.venv\\lib\\site-packages (from Jinja2->-r requirements.txt (line 5)) (3.0.2)\n",
      "Requirement already satisfied: six<2,>=1.15 in y:\\data\\games\\game-manager2\\.venv\\lib\\site-packages (from markdownify->-r requirements.txt (line 7)) (1.17.0)\n",
      "Requirement already satisfied: trio~=0.17 in y:\\data\\games\\game-manager2\\.venv\\lib\\site-packages (from selenium->-r requirements.txt (line 9)) (0.27.0)\n",
      "Requirement already satisfied: trio-websocket~=0.9 in y:\\data\\games\\game-manager2\\.venv\\lib\\site-packages (from selenium->-r requirements.txt (line 9)) (0.11.1)\n",
      "Requirement already satisfied: typing_extensions~=4.9 in y:\\data\\games\\game-manager2\\.venv\\lib\\site-packages (from selenium->-r requirements.txt (line 9)) (4.12.2)\n",
      "Requirement already satisfied: websocket-client~=1.8 in y:\\data\\games\\game-manager2\\.venv\\lib\\site-packages (from selenium->-r requirements.txt (line 9)) (1.8.0)\n",
      "Requirement already satisfied: websockets in y:\\data\\games\\game-manager2\\.venv\\lib\\site-packages (from undetected_chromedriver->-r requirements.txt (line 10)) (14.1)\n",
      "Requirement already satisfied: pyparsing>=2.4.7 in y:\\data\\games\\game-manager2\\.venv\\lib\\site-packages (from cloudscraper->-r requirements.txt (line 12)) (3.2.0)\n",
      "Requirement already satisfied: requests-toolbelt>=0.9.1 in y:\\data\\games\\game-manager2\\.venv\\lib\\site-packages (from cloudscraper->-r requirements.txt (line 12)) (1.0.0)\n",
      "Requirement already satisfied: colorama in y:\\data\\games\\game-manager2\\.venv\\lib\\site-packages (from click>=8.1.3->Flask->-r requirements.txt (line 1)) (0.4.6)\n",
      "Requirement already satisfied: attrs>=23.2.0 in y:\\data\\games\\game-manager2\\.venv\\lib\\site-packages (from trio~=0.17->selenium->-r requirements.txt (line 9)) (24.3.0)\n",
      "Requirement already satisfied: sortedcontainers in y:\\data\\games\\game-manager2\\.venv\\lib\\site-packages (from trio~=0.17->selenium->-r requirements.txt (line 9)) (2.4.0)\n",
      "Requirement already satisfied: outcome in y:\\data\\games\\game-manager2\\.venv\\lib\\site-packages (from trio~=0.17->selenium->-r requirements.txt (line 9)) (1.3.0.post0)\n",
      "Requirement already satisfied: sniffio>=1.3.0 in y:\\data\\games\\game-manager2\\.venv\\lib\\site-packages (from trio~=0.17->selenium->-r requirements.txt (line 9)) (1.3.1)\n",
      "Requirement already satisfied: cffi>=1.14 in y:\\data\\games\\game-manager2\\.venv\\lib\\site-packages (from trio~=0.17->selenium->-r requirements.txt (line 9)) (1.17.1)\n",
      "Requirement already satisfied: exceptiongroup in y:\\data\\games\\game-manager2\\.venv\\lib\\site-packages (from trio~=0.17->selenium->-r requirements.txt (line 9)) (1.2.2)\n",
      "Requirement already satisfied: wsproto>=0.14 in y:\\data\\games\\game-manager2\\.venv\\lib\\site-packages (from trio-websocket~=0.9->selenium->-r requirements.txt (line 9)) (1.2.0)\n",
      "Requirement already satisfied: pysocks!=1.5.7,<2.0,>=1.5.6 in y:\\data\\games\\game-manager2\\.venv\\lib\\site-packages (from urllib3[socks]<3,>=1.26->selenium->-r requirements.txt (line 9)) (1.7.1)\n",
      "Requirement already satisfied: pycparser in y:\\data\\games\\game-manager2\\.venv\\lib\\site-packages (from cffi>=1.14->trio~=0.17->selenium->-r requirements.txt (line 9)) (2.22)\n",
      "Requirement already satisfied: h11<1,>=0.9.0 in y:\\data\\games\\game-manager2\\.venv\\lib\\site-packages (from wsproto>=0.14->trio-websocket~=0.9->selenium->-r requirements.txt (line 9)) (0.14.0)\n",
      "Note: you may need to restart the kernel to use updated packages.\n",
      "Requirement already satisfied: ipywidgets in y:\\data\\games\\game-manager2\\.venv\\lib\\site-packages (8.1.5)\n",
      "Requirement already satisfied: comm>=0.1.3 in y:\\data\\games\\game-manager2\\.venv\\lib\\site-packages (from ipywidgets) (0.2.2)\n",
      "Requirement already satisfied: ipython>=6.1.0 in y:\\data\\games\\game-manager2\\.venv\\lib\\site-packages (from ipywidgets) (8.30.0)\n",
      "Requirement already satisfied: traitlets>=4.3.1 in y:\\data\\games\\game-manager2\\.venv\\lib\\site-packages (from ipywidgets) (5.14.3)\n",
      "Requirement already satisfied: widgetsnbextension~=4.0.12 in y:\\data\\games\\game-manager2\\.venv\\lib\\site-packages (from ipywidgets) (4.0.13)\n",
      "Requirement already satisfied: jupyterlab-widgets~=3.0.12 in y:\\data\\games\\game-manager2\\.venv\\lib\\site-packages (from ipywidgets) (3.0.13)\n",
      "Requirement already satisfied: colorama in y:\\data\\games\\game-manager2\\.venv\\lib\\site-packages (from ipython>=6.1.0->ipywidgets) (0.4.6)\n",
      "Requirement already satisfied: decorator in y:\\data\\games\\game-manager2\\.venv\\lib\\site-packages (from ipython>=6.1.0->ipywidgets) (5.1.1)\n",
      "Requirement already satisfied: exceptiongroup in y:\\data\\games\\game-manager2\\.venv\\lib\\site-packages (from ipython>=6.1.0->ipywidgets) (1.2.2)\n",
      "Requirement already satisfied: jedi>=0.16 in y:\\data\\games\\game-manager2\\.venv\\lib\\site-packages (from ipython>=6.1.0->ipywidgets) (0.19.2)\n",
      "Requirement already satisfied: matplotlib-inline in y:\\data\\games\\game-manager2\\.venv\\lib\\site-packages (from ipython>=6.1.0->ipywidgets) (0.1.7)\n",
      "Requirement already satisfied: prompt_toolkit<3.1.0,>=3.0.41 in y:\\data\\games\\game-manager2\\.venv\\lib\\site-packages (from ipython>=6.1.0->ipywidgets) (3.0.48)\n",
      "Requirement already satisfied: pygments>=2.4.0 in y:\\data\\games\\game-manager2\\.venv\\lib\\site-packages (from ipython>=6.1.0->ipywidgets) (2.18.0)\n",
      "Requirement already satisfied: stack_data in y:\\data\\games\\game-manager2\\.venv\\lib\\site-packages (from ipython>=6.1.0->ipywidgets) (0.6.3)\n",
      "Requirement already satisfied: typing_extensions>=4.6 in y:\\data\\games\\game-manager2\\.venv\\lib\\site-packages (from ipython>=6.1.0->ipywidgets) (4.12.2)\n",
      "Requirement already satisfied: parso<0.9.0,>=0.8.4 in y:\\data\\games\\game-manager2\\.venv\\lib\\site-packages (from jedi>=0.16->ipython>=6.1.0->ipywidgets) (0.8.4)\n",
      "Requirement already satisfied: wcwidth in y:\\data\\games\\game-manager2\\.venv\\lib\\site-packages (from prompt_toolkit<3.1.0,>=3.0.41->ipython>=6.1.0->ipywidgets) (0.2.13)\n",
      "Requirement already satisfied: executing>=1.2.0 in y:\\data\\games\\game-manager2\\.venv\\lib\\site-packages (from stack_data->ipython>=6.1.0->ipywidgets) (2.1.0)\n",
      "Requirement already satisfied: asttokens>=2.1.0 in y:\\data\\games\\game-manager2\\.venv\\lib\\site-packages (from stack_data->ipython>=6.1.0->ipywidgets) (3.0.0)\n",
      "Requirement already satisfied: pure-eval in y:\\data\\games\\game-manager2\\.venv\\lib\\site-packages (from stack_data->ipython>=6.1.0->ipywidgets) (0.2.3)\n",
      "Note: you may need to restart the kernel to use updated packages.\n",
      "Requirement already satisfied: ipyfilechooser in y:\\data\\games\\game-manager2\\.venv\\lib\\site-packages (0.6.0)\n",
      "Requirement already satisfied: ipywidgets in y:\\data\\games\\game-manager2\\.venv\\lib\\site-packages (from ipyfilechooser) (8.1.5)\n",
      "Requirement already satisfied: comm>=0.1.3 in y:\\data\\games\\game-manager2\\.venv\\lib\\site-packages (from ipywidgets->ipyfilechooser) (0.2.2)\n",
      "Requirement already satisfied: ipython>=6.1.0 in y:\\data\\games\\game-manager2\\.venv\\lib\\site-packages (from ipywidgets->ipyfilechooser) (8.30.0)\n",
      "Requirement already satisfied: traitlets>=4.3.1 in y:\\data\\games\\game-manager2\\.venv\\lib\\site-packages (from ipywidgets->ipyfilechooser) (5.14.3)\n",
      "Requirement already satisfied: widgetsnbextension~=4.0.12 in y:\\data\\games\\game-manager2\\.venv\\lib\\site-packages (from ipywidgets->ipyfilechooser) (4.0.13)\n",
      "Requirement already satisfied: jupyterlab-widgets~=3.0.12 in y:\\data\\games\\game-manager2\\.venv\\lib\\site-packages (from ipywidgets->ipyfilechooser) (3.0.13)\n",
      "Requirement already satisfied: colorama in y:\\data\\games\\game-manager2\\.venv\\lib\\site-packages (from ipython>=6.1.0->ipywidgets->ipyfilechooser) (0.4.6)\n",
      "Requirement already satisfied: decorator in y:\\data\\games\\game-manager2\\.venv\\lib\\site-packages (from ipython>=6.1.0->ipywidgets->ipyfilechooser) (5.1.1)\n",
      "Requirement already satisfied: exceptiongroup in y:\\data\\games\\game-manager2\\.venv\\lib\\site-packages (from ipython>=6.1.0->ipywidgets->ipyfilechooser) (1.2.2)\n",
      "Requirement already satisfied: jedi>=0.16 in y:\\data\\games\\game-manager2\\.venv\\lib\\site-packages (from ipython>=6.1.0->ipywidgets->ipyfilechooser) (0.19.2)\n",
      "Requirement already satisfied: matplotlib-inline in y:\\data\\games\\game-manager2\\.venv\\lib\\site-packages (from ipython>=6.1.0->ipywidgets->ipyfilechooser) (0.1.7)\n",
      "Requirement already satisfied: prompt_toolkit<3.1.0,>=3.0.41 in y:\\data\\games\\game-manager2\\.venv\\lib\\site-packages (from ipython>=6.1.0->ipywidgets->ipyfilechooser) (3.0.48)\n",
      "Requirement already satisfied: pygments>=2.4.0 in y:\\data\\games\\game-manager2\\.venv\\lib\\site-packages (from ipython>=6.1.0->ipywidgets->ipyfilechooser) (2.18.0)\n",
      "Requirement already satisfied: stack_data in y:\\data\\games\\game-manager2\\.venv\\lib\\site-packages (from ipython>=6.1.0->ipywidgets->ipyfilechooser) (0.6.3)\n",
      "Requirement already satisfied: typing_extensions>=4.6 in y:\\data\\games\\game-manager2\\.venv\\lib\\site-packages (from ipython>=6.1.0->ipywidgets->ipyfilechooser) (4.12.2)\n",
      "Requirement already satisfied: parso<0.9.0,>=0.8.4 in y:\\data\\games\\game-manager2\\.venv\\lib\\site-packages (from jedi>=0.16->ipython>=6.1.0->ipywidgets->ipyfilechooser) (0.8.4)\n",
      "Requirement already satisfied: wcwidth in y:\\data\\games\\game-manager2\\.venv\\lib\\site-packages (from prompt_toolkit<3.1.0,>=3.0.41->ipython>=6.1.0->ipywidgets->ipyfilechooser) (0.2.13)\n",
      "Requirement already satisfied: executing>=1.2.0 in y:\\data\\games\\game-manager2\\.venv\\lib\\site-packages (from stack_data->ipython>=6.1.0->ipywidgets->ipyfilechooser) (2.1.0)\n",
      "Requirement already satisfied: asttokens>=2.1.0 in y:\\data\\games\\game-manager2\\.venv\\lib\\site-packages (from stack_data->ipython>=6.1.0->ipywidgets->ipyfilechooser) (3.0.0)\n",
      "Requirement already satisfied: pure-eval in y:\\data\\games\\game-manager2\\.venv\\lib\\site-packages (from stack_data->ipython>=6.1.0->ipywidgets->ipyfilechooser) (0.2.3)\n",
      "Note: you may need to restart the kernel to use updated packages.\n"
     ]
    }
   ],
   "source": [
    "%pip install -r requirements.txt\n",
    "%pip install ipywidgets\n",
    "%pip install ipyfilechooser"
   ]
  },
  {
   "cell_type": "markdown",
   "metadata": {},
   "source": [
    "## Management GUI"
   ]
  },
  {
   "cell_type": "code",
   "execution_count": 1,
   "metadata": {},
   "outputs": [
    {
     "name": "stdout",
     "output_type": "stream",
     "text": [
      "Loaded 8 games\n"
     ]
    },
    {
     "data": {
      "application/vnd.jupyter.widget-view+json": {
       "model_id": "0d51db97ba504ec98b2848745194dacb",
       "version_major": 2,
       "version_minor": 0
      },
      "text/plain": [
       "HBox(children=(Text(value='', description='Url:'), Button(description='Add game from Url', style=ButtonStyle()…"
      ]
     },
     "metadata": {},
     "output_type": "display_data"
    },
    {
     "data": {
      "application/vnd.jupyter.widget-view+json": {
       "model_id": "0a25dbad35cc4ef691913d7174d56078",
       "version_major": 2,
       "version_minor": 0
      },
      "text/plain": [
       "HBox(children=(FileChooser(path='Y:\\Data\\games\\game-manager2', filename='urls.txt', title='Select a fext file …"
      ]
     },
     "metadata": {},
     "output_type": "display_data"
    },
    {
     "data": {
      "application/vnd.jupyter.widget-view+json": {
       "model_id": "b8b62a882842423c86e4ce6d4fbc7799",
       "version_major": 2,
       "version_minor": 0
      },
      "text/plain": [
       "HBox(children=(Button(description='Force update all', style=ButtonStyle()), Button(description='Check all for …"
      ]
     },
     "metadata": {},
     "output_type": "display_data"
    },
    {
     "data": {
      "application/vnd.jupyter.widget-view+json": {
       "model_id": "8cd44e1f04bf4060b42d2a50c8711017",
       "version_major": 2,
       "version_minor": 0
      },
      "text/plain": [
       "Button(description='Save gamelist', style=ButtonStyle())"
      ]
     },
     "metadata": {},
     "output_type": "display_data"
    }
   ],
   "source": [
    "import ipywidgets as widgets\n",
    "from ipyfilechooser import FileChooser\n",
    "from IPython.display import display, clear_output\n",
    "\n",
    "from dataclasses import dataclass, field, asdict\n",
    "import datetime\n",
    "\n",
    "from src.ScraperRepository import ScraperRepository\n",
    "from src.GameScraper import GameScraper\n",
    "from src.Game import Game\n",
    "from src.GameList import GameList\n",
    "\n",
    "from src.scrapers.AllTheFallenGameScraper import AllTheFallenGameScraper\n",
    "# from src.scrapers.DikgamesGameScraper import DikgamesGameScraper\n",
    "from src.scrapers.F95zoneGameScraper import F95zoneGameScraper\n",
    "from src.scrapers.FapNationGameScraper import FapNationGameScraper\n",
    "from src.scrapers.LewdCornerGamerScraper import LewdCornerGamerScraper\n",
    "\n",
    "\n",
    "repository = ScraperRepository()\n",
    "repository.add(AllTheFallenGameScraper)\n",
    "# repository.add(DikgamesGameScraper)\n",
    "repository.add(F95zoneGameScraper)\n",
    "repository.add(FapNationGameScraper)\n",
    "repository.add(LewdCornerGamerScraper)\n",
    "\n",
    "gamelist = GameList(repository=repository)\n",
    "gamelist.load()\n",
    "\n",
    "url_input = widgets.Text(description=\"Url:\")\n",
    "add_from_url_button = widgets.Button(description=\"Add game from Url\")\n",
    "def add_from_url(b):\n",
    "    url = url_input.value\n",
    "    if url:\n",
    "        gamelist.add_game_from_url(url)\n",
    "    print(\"DONE\")\n",
    "add_from_url_button.on_click(add_from_url)\n",
    "\n",
    "check_url_button = widgets.Button(description=\"Check game from Url\")\n",
    "def check_url(b):\n",
    "    url = url_input.value\n",
    "    if url:\n",
    "        game = gamelist.get_by_url(url)\n",
    "        if not url:\n",
    "            print(f\"game with {url} not found\")\n",
    "        else:\n",
    "            try:\n",
    "                game.check_for_updates(repository=gamelist.repository) \n",
    "            except Exception as e:\n",
    "                print(f\"Error updating '{game.title}': {e}\")\n",
    "    print(\"DONE\")\n",
    "check_url_button.on_click(check_url)\n",
    "\n",
    "force_update_url_button = widgets.Button(description=\"Force update on game from Url\")\n",
    "def force_update_from_url(b):\n",
    "    url = url_input.value\n",
    "    if url:\n",
    "        game = gamelist.get_by_url(url)\n",
    "        if not url:\n",
    "            print(f\"game with {url} not found\")\n",
    "        else:\n",
    "            try:\n",
    "                game.update(repository=gamelist.repository) \n",
    "            except Exception as e:\n",
    "                print(f\"Error updating '{game.title}': {e}\")\n",
    "    print(\"DONE\")\n",
    "force_update_url_button.on_click(force_update_from_url)\n",
    "\n",
    "save_button = widgets.Button(description=\"Save gamelist\")\n",
    "def save_changes(b):\n",
    "    gamelist.save()\n",
    "    gamelist.create_index()\n",
    "save_button.on_click(save_changes)\n",
    "\n",
    "filename_input = FileChooser(\n",
    "    './',  # Default directory\n",
    "    filename='urls.txt',  # Optional: Pre-fill filename\n",
    "    select_default=False,  # Start without pre-selected file\n",
    "    title='Select a fext file with URLs to add',  # Title displayed above the widget\n",
    ")\n",
    "add_from_file_button = widgets.Button(description=\"Start import\")\n",
    "def import_from_file(b):\n",
    "    selected_file = filename_input.selected\n",
    "    if selected_file:\n",
    "        try:\n",
    "            with open(selected_file, 'r', encoding='utf-8') as file:\n",
    "                for line in file:\n",
    "                    clean_line = line.strip()\n",
    "                    # Ignore empty lines and comment lines\n",
    "                    if clean_line and not clean_line.startswith(\"#\"):\n",
    "                        gamelist.add_game_from_url(clean_line)\n",
    "        except Exception as e:\n",
    "            print(f\"Error reading file: {e}\")\n",
    "    print(\"DONE\")\n",
    "add_from_file_button.on_click(import_from_file)\n",
    "\n",
    "force_all_updates_button = widgets.Button(description=\"Force update all\")\n",
    "def force_all_updates(b):\n",
    "    for game in gamelist.games:\n",
    "        try:\n",
    "            game.update(repository=gamelist.repository) \n",
    "        except Exception as e:\n",
    "            print(f\"Error updating '{game.title}': {e}\")\n",
    "    print(\"DONE\")\n",
    "force_all_updates_button.on_click(force_all_updates)\n",
    "\n",
    "check_all_for_updates_button = widgets.Button(description=\"Check all for updates\")\n",
    "def check_all_for_updates(b):\n",
    "    print(f\"Checking for updates, {datetime.datetime.now()}\")\n",
    "    updates = gamelist.check_for_updates(immediate_update=True)\n",
    "    print(f\"{len(updates)} updates found, {datetime.datetime.now()}\")\n",
    "    print(\"DONE\")\n",
    "check_all_for_updates_button.on_click(check_all_for_updates)\n",
    "\n",
    "add_from_url_ui = widgets.HBox([url_input, add_from_url_button, check_url_button, force_update_url_button])\n",
    "add_from_url_file = widgets.HBox([filename_input, add_from_file_button])\n",
    "updates_ui = widgets.HBox([force_all_updates_button, check_all_for_updates_button])\n",
    "display(add_from_url_ui, add_from_url_file, updates_ui, save_button)"
   ]
  }
 ],
 "metadata": {
  "kernelspec": {
   "display_name": ".venv",
   "language": "python",
   "name": "python3"
  },
  "language_info": {
   "codemirror_mode": {
    "name": "ipython",
    "version": 3
   },
   "file_extension": ".py",
   "mimetype": "text/x-python",
   "name": "python",
   "nbconvert_exporter": "python",
   "pygments_lexer": "ipython3",
   "version": "3.10.6"
  }
 },
 "nbformat": 4,
 "nbformat_minor": 2
}
